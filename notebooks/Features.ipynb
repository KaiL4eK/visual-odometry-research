{
 "cells": [
  {
   "cell_type": "code",
   "execution_count": null,
   "metadata": {},
   "outputs": [],
   "source": [
    "%load_ext autoreload\n",
    "%autoreload 2\n",
    "\n",
    "import numpy as np\n",
    "import os\n",
    "import cv2\n",
    "\n",
    "import sys\n",
    "sys.path.append('..')\n",
    "\n",
    "from shared.data import KITTIData, draw_matches, VisualOdometry\n",
    "\n",
    "%matplotlib widget\n",
    "\n",
    "import matplotlib.pyplot as plt\n",
    "from mpl_toolkits.mplot3d import Axes3D\n",
    "# https://github.com/matplotlib/ipympl"
   ]
  },
  {
   "cell_type": "code",
   "execution_count": null,
   "metadata": {},
   "outputs": [],
   "source": [
    "DATASET_DIR = os.path.join('../', 'data/KITTI/dataset')\n",
    "dataset = KITTIData(DATASET_DIR)"
   ]
  },
  {
   "cell_type": "code",
   "execution_count": null,
   "metadata": {},
   "outputs": [],
   "source": [
    "l_img, r_img = dataset.get_color_images(20)\n",
    "fig, (ax1, ax2) = plt.subplots(2, 1, figsize=[15,9])\n",
    "ax1.imshow(l_img)\n",
    "ax2.imshow(r_img)"
   ]
  },
  {
   "cell_type": "markdown",
   "metadata": {},
   "source": [
    "# ORB features "
   ]
  },
  {
   "cell_type": "code",
   "execution_count": null,
   "metadata": {},
   "outputs": [],
   "source": [
    "idx = 25\n",
    "c_img, _ = dataset.get_color_images(idx)\n",
    "n_img, _ = dataset.get_color_images(idx+1)\n",
    "\n",
    "orb = cv2.ORB_create(\n",
    "    nfeatures=500,\n",
    "    scaleFactor=1.2,\n",
    "    nlevels=8,\n",
    "    edgeThreshold=31,\n",
    "    firstLevel=0,\n",
    "    WTA_K=2,\n",
    "    scoreType=cv2.ORB_HARRIS_SCORE,\n",
    "    patchSize=31,\n",
    "    fastThreshold=10\n",
    ")\n",
    "c_kp, c_des = orb.detectAndCompute(c_img, None)\n",
    "n_kp, n_des = orb.detectAndCompute(n_img, None)\n",
    "\n",
    "c_img_canvas = c_img.copy()\n",
    "n_img_canvas = n_img.copy()\n",
    "cv2.drawKeypoints(c_img_canvas, c_kp, c_img_canvas, color=(0,255,0), flags=0)\n",
    "cv2.drawKeypoints(n_img_canvas, n_kp, n_img_canvas, color=(0,255,0), flags=0)\n",
    "\n",
    "fig, (ax1, ax2) = plt.subplots(2, 1, figsize=[15,9])\n",
    "ax1.imshow(c_img_canvas)\n",
    "ax2.imshow(n_img_canvas)"
   ]
  },
  {
   "cell_type": "markdown",
   "metadata": {},
   "source": [
    "# Harris corners"
   ]
  },
  {
   "cell_type": "code",
   "execution_count": null,
   "metadata": {},
   "outputs": [],
   "source": [
    "feature_params = dict(maxCorners=150,\n",
    "                      qualityLevel=0.3,\n",
    "                      minDistance=7,\n",
    "                      blockSize=7)\n",
    "\n",
    "# Parameters for lucas kanade optical flow\n",
    "lk_params = dict(winSize=(15, 15),\n",
    "                 maxLevel=2,\n",
    "                 criteria=(cv2.TERM_CRITERIA_EPS | cv2.TERM_CRITERIA_COUNT, 10, 0.03))\n",
    "\n",
    "c_img_gray = cv2.cvtColor(c_img, cv2.COLOR_RGB2GRAY)\n",
    "n_img_gray = cv2.cvtColor(n_img, cv2.COLOR_RGB2GRAY)\n",
    "\n",
    "c_feat_corners = cv2.goodFeaturesToTrack(c_img_gray, mask=None, **feature_params)\n",
    "n_feat_corners, st, err = cv2.calcOpticalFlowPyrLK(c_img_gray, n_img_gray, c_feat_corners, None, **lk_params)\n",
    "\n",
    "c_feat_corners = c_feat_corners[st==1]\n",
    "n_feat_corners = n_feat_corners[st==1]\n",
    "\n",
    "print(c_feat_corners.shape)\n",
    "\n",
    "c_img_canvas = c_img.copy()\n",
    "n_img_canvas = n_img.copy()\n",
    "\n",
    "radius = 5\n",
    "color = (20, 255, 20)\n",
    "\n",
    "for p in c_feat_corners:\n",
    "    cv2.circle(c_img_canvas, tuple(p), radius, color, 2)\n",
    "\n",
    "for p in n_feat_corners:\n",
    "    cv2.circle(n_img_canvas, tuple(p), radius, color, 2)\n",
    "\n",
    "fig, (ax1, ax2) = plt.subplots(2, 1, figsize=[15,9])\n",
    "ax1.imshow(c_img_canvas)\n",
    "ax2.imshow(n_img_canvas)"
   ]
  },
  {
   "cell_type": "markdown",
   "metadata": {},
   "source": [
    "# FAST features"
   ]
  },
  {
   "cell_type": "code",
   "execution_count": null,
   "metadata": {},
   "outputs": [],
   "source": [
    "c_img_gray = cv2.cvtColor(c_img, cv2.COLOR_RGB2GRAY)\n",
    "n_img_gray = cv2.cvtColor(n_img, cv2.COLOR_RGB2GRAY)\n",
    "\n",
    "lk_params = dict(winSize=(15, 15),\n",
    "                 maxLevel=2,\n",
    "                 criteria=(cv2.TERM_CRITERIA_EPS | cv2.TERM_CRITERIA_COUNT, 10, 0.03))\n",
    "\n",
    "fast = cv2.FastFeatureDetector_create(\n",
    "    threshold=20,\n",
    "    nonmaxSuppression=True,\n",
    "    type=cv2.FAST_FEATURE_DETECTOR_TYPE_9_16\n",
    ")\n",
    "c_feats = fast.detect(c_img_gray, None)\n",
    "c_feats = [[list(cf.pt)] for cf in c_feats]\n",
    "c_feats = np.array(c_feats, dtype=np.float32)\n",
    "n_feats, st, err = cv2.calcOpticalFlowPyrLK(c_img_gray, n_img_gray, c_feats, None, **lk_params)\n",
    "\n",
    "c_feats = c_feats[st==1]\n",
    "n_feats = n_feats[st==1]\n",
    "\n",
    "print(c_feats.shape, n_feats.shape)\n",
    "\n",
    "c_img_canvas = c_img.copy()\n",
    "n_img_canvas = n_img.copy()\n",
    "\n",
    "radius = 5\n",
    "color = (20, 20, 255)\n",
    "\n",
    "for p in c_feats:\n",
    "    cv2.circle(c_img_canvas, tuple(p), radius, color, 2)\n",
    "\n",
    "for p in n_feats:\n",
    "    cv2.circle(n_img_canvas, tuple(p), radius, color, 2)\n",
    "\n",
    "fig, (ax1, ax2) = plt.subplots(2, 1, figsize=[15,9])\n",
    "ax1.imshow(c_img_canvas)\n",
    "ax2.imshow(n_img_canvas)"
   ]
  },
  {
   "cell_type": "markdown",
   "metadata": {},
   "source": [
    "# Matching"
   ]
  },
  {
   "cell_type": "code",
   "execution_count": null,
   "metadata": {},
   "outputs": [],
   "source": [
    "bf = cv2.BFMatcher(cv2.NORM_HAMMING, crossCheck=True)\n",
    "matches = bf.match(c_des, n_des)\n",
    "matches = sorted(matches, key = lambda x:x.distance)\n",
    "\n",
    "# Filter with distance larger than 35\n",
    "matches = [m for m in matches if m.distance < 35]\n",
    "\n",
    "# img_matched = cv2.drawMatches(c_img, c_kp, n_img, n_kp, matches[:10], None, flags=cv2.DrawMatchesFlags_NOT_DRAW_SINGLE_POINTS)\n",
    "img_matched = draw_matches(c_img, c_kp, n_img, n_kp, matches)\n",
    "\n",
    "plt.figure(figsize=(15,9))\n",
    "plt.imshow(img_matched)"
   ]
  },
  {
   "cell_type": "code",
   "execution_count": null,
   "metadata": {},
   "outputs": [],
   "source": []
  },
  {
   "cell_type": "code",
   "execution_count": null,
   "metadata": {},
   "outputs": [],
   "source": []
  },
  {
   "cell_type": "code",
   "execution_count": null,
   "metadata": {},
   "outputs": [],
   "source": []
  }
 ],
 "metadata": {
  "kernelspec": {
   "display_name": "Python 3",
   "language": "python",
   "name": "python3"
  },
  "language_info": {
   "codemirror_mode": {
    "name": "ipython",
    "version": 3
   },
   "file_extension": ".py",
   "mimetype": "text/x-python",
   "name": "python",
   "nbconvert_exporter": "python",
   "pygments_lexer": "ipython3",
   "version": "3.8.0"
  }
 },
 "nbformat": 4,
 "nbformat_minor": 4
}
