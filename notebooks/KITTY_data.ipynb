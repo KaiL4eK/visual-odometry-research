{
 "cells": [
  {
   "cell_type": "code",
   "execution_count": null,
   "metadata": {},
   "outputs": [],
   "source": [
    "!pip install opencv-python-headless==4.2.0.34\n",
    "!pip install pytransform3d==1.1.1"
   ]
  },
  {
   "cell_type": "markdown",
   "metadata": {},
   "source": [
    "## Notes\n",
    "\n",
    "- Camera CS: Z - forward, X - right, Y - down"
   ]
  },
  {
   "cell_type": "code",
   "execution_count": null,
   "metadata": {},
   "outputs": [],
   "source": [
    "%load_ext autoreload\n",
    "%autoreload 2\n",
    "\n",
    "import matplotlib.pyplot as plt\n",
    "import numpy as np\n",
    "import os\n",
    "from scipy.spatial.transform import Rotation as R\n",
    "\n",
    "ROOT_DIR = '../'"
   ]
  },
  {
   "cell_type": "code",
   "execution_count": null,
   "metadata": {},
   "outputs": [],
   "source": [
    "DATASET_DIR = os.path.join(ROOT_DIR, 'data/KITTY/dataset')\n",
    "POSES_DIR = os.path.join(DATASET_DIR, 'poses')\n",
    "SEQUENCE_IDX = '00'\n",
    "SEQUENCE_DIR = os.path.join(DATASET_DIR, 'sequences', SEQUENCE_IDX)"
   ]
  },
  {
   "cell_type": "code",
   "execution_count": null,
   "metadata": {},
   "outputs": [],
   "source": [
    "POSE_PATH = os.path.join(POSES_DIR, f'{SEQUENCE_IDX}.txt')\n",
    "TIMES_PATH = os.path.join(SEQUENCE_DIR, 'times.txt')\n",
    "\n",
    "poses_data = np.fromfile(POSE_PATH, sep=' ')\n",
    "poses_data = poses_data.reshape((-1, 3, 4))\n",
    "\n",
    "times_data = np.fromfile(TIMES_PATH, sep='\\n')"
   ]
  },
  {
   "cell_type": "code",
   "execution_count": null,
   "metadata": {},
   "outputs": [],
   "source": [
    "times_data.shape"
   ]
  },
  {
   "cell_type": "code",
   "execution_count": null,
   "metadata": {},
   "outputs": [],
   "source": [
    "poses_data.shape"
   ]
  },
  {
   "cell_type": "code",
   "execution_count": null,
   "metadata": {},
   "outputs": [],
   "source": [
    "pose_0 = poses_data[0]\n",
    "pose_0"
   ]
  },
  {
   "cell_type": "code",
   "execution_count": null,
   "metadata": {},
   "outputs": [],
   "source": [
    "pose_1 = poses_data[1]\n",
    "pose_1"
   ]
  },
  {
   "cell_type": "code",
   "execution_count": null,
   "metadata": {},
   "outputs": [],
   "source": [
    "pose_10 = poses_data[10]\n",
    "pose_10"
   ]
  },
  {
   "cell_type": "code",
   "execution_count": null,
   "metadata": {},
   "outputs": [],
   "source": [
    "inv_pose_rot_10 = np.linalg.inv(pose_10[:3,:3])\n",
    "inv_pose_rot_10"
   ]
  },
  {
   "cell_type": "code",
   "execution_count": null,
   "metadata": {},
   "outputs": [],
   "source": [
    "def get_transofrmation(pose1, pose2):\n",
    "    rot_pose1 = pose1[:3,:3]\n",
    "    rot_pose2 = pose2[:3,:3]\n",
    "    inv_rot_pose1 = np.linalg.inv(rot_pose1)\n",
    "    inv_rot_pose2 = np.linalg.inv(rot_pose2)\n",
    "    trans_pose1 = pose1[:,3]\n",
    "    trans_pose2 = pose2[:,3]\n",
    "    \n",
    "    r2_invr1 = rot_pose2.dot(inv_rot_pose1)\n",
    "    trans = trans_pose2 - (r2_invr1.dot(trans_pose1))\n",
    "    rot = r2_invr1\n",
    "    \n",
    "    trans = trans[..., np.newaxis]\n",
    "    return np.hstack((rot, trans))\n",
    "\n",
    "def get_transofrmation2(pose1, pose2):\n",
    "    full_pose1 = np.vstack((pose1, [0,0,0,1]))\n",
    "    full_pose2 = np.vstack((pose2, [0,0,0,1]))\n",
    "\n",
    "    inv_pose1 = np.linalg.inv(full_pose1)\n",
    "    return full_pose2.dot(inv_pose1)[:3,:]"
   ]
  },
  {
   "cell_type": "code",
   "execution_count": null,
   "metadata": {},
   "outputs": [],
   "source": [
    "transform1 = get_transofrmation(poses_data[0], poses_data[1])\n",
    "transform1"
   ]
  },
  {
   "cell_type": "code",
   "execution_count": null,
   "metadata": {},
   "outputs": [],
   "source": [
    "transform2 = get_transofrmation2(poses_data[0], poses_data[1])\n",
    "transform2"
   ]
  },
  {
   "cell_type": "code",
   "execution_count": null,
   "metadata": {},
   "outputs": [],
   "source": [
    "np.all(transform1 == transform2)"
   ]
  },
  {
   "cell_type": "code",
   "execution_count": null,
   "metadata": {},
   "outputs": [],
   "source": [
    "r = R.from_matrix(transform1[:,:3])\n",
    "r.as_quat()"
   ]
  },
  {
   "cell_type": "code",
   "execution_count": null,
   "metadata": {},
   "outputs": [],
   "source": [
    "r.as_euler('zyx', degrees=True)"
   ]
  },
  {
   "cell_type": "code",
   "execution_count": null,
   "metadata": {},
   "outputs": [],
   "source": [
    "turn = get_transofrmation(poses_data[90], poses_data[100])\n",
    "r = R.from_matrix(turn[:,:3])\n",
    "r.as_euler('zyx', degrees=True)"
   ]
  },
  {
   "cell_type": "code",
   "execution_count": null,
   "metadata": {},
   "outputs": [],
   "source": [
    "points = []\n",
    "for pose in poses_data[:90]:\n",
    "    points.append(\n",
    "        (pose[0,3], pose[1,3], pose[2,3])\n",
    "    )\n",
    "    \n",
    "points = np.array(points) \n",
    "plt.figure(figsize=(9,9))\n",
    "plt.plot(points[:,0], points[:,2])"
   ]
  },
  {
   "cell_type": "code",
   "execution_count": null,
   "metadata": {},
   "outputs": [],
   "source": []
  }
 ],
 "metadata": {
  "kernelspec": {
   "display_name": "Python 3",
   "language": "python",
   "name": "python3"
  },
  "language_info": {
   "codemirror_mode": {
    "name": "ipython",
    "version": 3
   },
   "file_extension": ".py",
   "mimetype": "text/x-python",
   "name": "python",
   "nbconvert_exporter": "python",
   "pygments_lexer": "ipython3",
   "version": "3.8.0"
  }
 },
 "nbformat": 4,
 "nbformat_minor": 4
}
