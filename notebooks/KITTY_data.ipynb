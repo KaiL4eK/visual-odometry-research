{
 "cells": [
  {
   "cell_type": "markdown",
   "metadata": {},
   "source": [
    "## Notes\n",
    "\n",
    "- Camera CS: Z - forward, X - right, Y - down\n",
    "\n",
    "## More datasets\n",
    "\n",
    "- http://www.cvlibs.net/datasets/karlsruhe_sequences/\n",
    "\n",
    "## Poses transormation\n",
    "\n",
    "P2 = T * P1\n",
    "T = P2 * P1^-1\n"
   ]
  },
  {
   "cell_type": "code",
   "execution_count": null,
   "metadata": {},
   "outputs": [],
   "source": [
    "# Old transformation\n",
    "def get_transofrmation(pose1, pose2):\n",
    "    rot_pose1 = pose1[:3,:3]\n",
    "    rot_pose2 = pose2[:3,:3]\n",
    "    inv_rot_pose1 = np.linalg.inv(rot_pose1)\n",
    "    inv_rot_pose2 = np.linalg.inv(rot_pose2)\n",
    "    trans_pose1 = pose1[:,3]\n",
    "    trans_pose2 = pose2[:,3]\n",
    "    \n",
    "    r2_invr1 = rot_pose2.dot(inv_rot_pose1)\n",
    "    trans = trans_pose2 - (r2_invr1.dot(trans_pose1))\n",
    "    rot = r2_invr1\n",
    "    \n",
    "    trans = trans[..., np.newaxis]\n",
    "    return np.hstack((rot, trans))"
   ]
  },
  {
   "cell_type": "code",
   "execution_count": null,
   "metadata": {},
   "outputs": [],
   "source": [
    "%load_ext autoreload\n",
    "%autoreload 2\n",
    "\n",
    "import matplotlib.pyplot as plt\n",
    "import numpy as np\n",
    "import os\n",
    "import pprint \n",
    "pp = pprint.PrettyPrinter(indent=4)\n",
    "\n",
    "from scipy.spatial.transform import Rotation as R\n",
    "\n",
    "ROOT_DIR = '../'"
   ]
  },
  {
   "cell_type": "code",
   "execution_count": null,
   "metadata": {},
   "outputs": [],
   "source": [
    "DATASET_DIR = os.path.join(ROOT_DIR, 'data/KITTY/dataset')\n",
    "POSES_DIR = os.path.join(DATASET_DIR, 'poses')\n",
    "SEQUENCE_IDX = '00'\n",
    "SEQUENCE_DIR = os.path.join(DATASET_DIR, 'sequences', SEQUENCE_IDX)"
   ]
  },
  {
   "cell_type": "code",
   "execution_count": null,
   "metadata": {},
   "outputs": [],
   "source": [
    "POSE_PATH = os.path.join(POSES_DIR, f'{SEQUENCE_IDX}.txt')\n",
    "TIMES_PATH = os.path.join(SEQUENCE_DIR, 'times.txt')\n",
    "\n",
    "poses_data = np.fromfile(POSE_PATH, sep=' ')\n",
    "poses_data = poses_data.reshape((-1, 3, 4))\n",
    "\n",
    "# Convert to 4x4 matrices\n",
    "last_row = np.array([[[0,0,0,1]]])\n",
    "last_rows = np.repeat(last_row, axis=0, repeats=poses_data.shape[0])\n",
    "poses_data = np.hstack((poses_data, last_rows))\n",
    "\n",
    "times_data = np.fromfile(TIMES_PATH, sep='\\n')"
   ]
  },
  {
   "cell_type": "code",
   "execution_count": null,
   "metadata": {},
   "outputs": [],
   "source": [
    "times_data.shape, poses_data.shape"
   ]
  },
  {
   "cell_type": "code",
   "execution_count": null,
   "metadata": {},
   "outputs": [],
   "source": [
    "pose_0 = poses_data[0]\n",
    "pose_0"
   ]
  },
  {
   "cell_type": "code",
   "execution_count": null,
   "metadata": {},
   "outputs": [],
   "source": [
    "pose_1 = poses_data[1]\n",
    "pose_1"
   ]
  },
  {
   "cell_type": "code",
   "execution_count": null,
   "metadata": {},
   "outputs": [],
   "source": [
    "pose_10 = poses_data[10]\n",
    "pose_10"
   ]
  },
  {
   "cell_type": "code",
   "execution_count": null,
   "metadata": {},
   "outputs": [],
   "source": [
    "def get_transofrmation(pose1, pose2):\n",
    "    # Poses are othogonal!\n",
    "    return pose2 @ np.linalg.inv(pose1)"
   ]
  },
  {
   "cell_type": "code",
   "execution_count": null,
   "metadata": {},
   "outputs": [],
   "source": [
    "transform = get_transofrmation(poses_data[0], poses_data[1])\n",
    "transform"
   ]
  },
  {
   "cell_type": "code",
   "execution_count": null,
   "metadata": {},
   "outputs": [],
   "source": [
    "pose_1, pose_10"
   ]
  },
  {
   "cell_type": "code",
   "execution_count": null,
   "metadata": {},
   "outputs": [],
   "source": [
    "T1 = pose_10 @ np.linalg.inv(pose_1)\n",
    "T2 = np.linalg.inv(pose_1) @ pose_10\n",
    "\n",
    "T1, T2, abs(T1 - T2) > 1e-5"
   ]
  },
  {
   "cell_type": "code",
   "execution_count": null,
   "metadata": {},
   "outputs": [],
   "source": [
    "P10 = T1 @ pose_1\n",
    "P10, abs(P10 - pose_10) > 1e-5"
   ]
  },
  {
   "cell_type": "code",
   "execution_count": null,
   "metadata": {},
   "outputs": [],
   "source": [
    "P10 = pose_1 @ T2\n",
    "P10, abs(P10 - pose_10) > 1e-5"
   ]
  },
  {
   "cell_type": "code",
   "execution_count": null,
   "metadata": {},
   "outputs": [],
   "source": [
    "r = R.from_matrix(transform[:3,:3])\n",
    "r.as_quat()"
   ]
  },
  {
   "cell_type": "code",
   "execution_count": null,
   "metadata": {},
   "outputs": [],
   "source": [
    "r.as_euler('zyx', degrees=True)"
   ]
  },
  {
   "cell_type": "code",
   "execution_count": null,
   "metadata": {},
   "outputs": [],
   "source": [
    "poses_data[90], poses_data[100]"
   ]
  },
  {
   "cell_type": "code",
   "execution_count": null,
   "metadata": {},
   "outputs": [],
   "source": [
    "turn = get_transofrmation(poses_data[90], poses_data[100])\n",
    "r = R.from_matrix(turn[:3,:3])\n",
    "r.as_euler('zyx', degrees=True)"
   ]
  },
  {
   "cell_type": "code",
   "execution_count": null,
   "metadata": {},
   "outputs": [],
   "source": [
    "turn[:3,3]"
   ]
  },
  {
   "cell_type": "code",
   "execution_count": null,
   "metadata": {},
   "outputs": [],
   "source": [
    "turn @ poses_data[90] "
   ]
  },
  {
   "cell_type": "code",
   "execution_count": null,
   "metadata": {},
   "outputs": [],
   "source": [
    "points = []\n",
    "for pose in poses_data[:100]:\n",
    "    points.append(\n",
    "        (pose[0,3], pose[1,3], pose[2,3])\n",
    "    )\n",
    "    \n",
    "points = np.array(points) \n",
    "plt.figure(figsize=(9,9))\n",
    "plt.plot(points[:,0], points[:,2])"
   ]
  },
  {
   "cell_type": "markdown",
   "metadata": {},
   "source": [
    "# Test metrics"
   ]
  },
  {
   "cell_type": "code",
   "execution_count": null,
   "metadata": {},
   "outputs": [],
   "source": [
    "import sys\n",
    "sys.path.append('..')\n",
    "\n",
    "from shared import metrics"
   ]
  },
  {
   "cell_type": "code",
   "execution_count": null,
   "metadata": {},
   "outputs": [],
   "source": [
    "gt_poses = poses_data.copy()\n",
    "pred_poses = poses_data.copy()"
   ]
  },
  {
   "cell_type": "code",
   "execution_count": null,
   "metadata": {},
   "outputs": [],
   "source": [
    "diffs = np.diff(gt_poses[:,:3,3], axis=0)\n",
    "deltas = np.linalg.norm(diffs, axis=1)\n",
    "dists = np.cumsum([0, *deltas])"
   ]
  },
  {
   "cell_type": "code",
   "execution_count": null,
   "metadata": {},
   "outputs": [],
   "source": [
    "ate = metrics.compute_ATE(gt_poses, pred_poses)\n",
    "ate"
   ]
  },
  {
   "cell_type": "code",
   "execution_count": null,
   "metadata": {},
   "outputs": [],
   "source": [
    "rpe_trns, rpe_rot = metrics.compute_RPE(gt_poses, pred_poses)\n",
    "rpe_trns, rpe_rot"
   ]
  },
  {
   "cell_type": "code",
   "execution_count": null,
   "metadata": {},
   "outputs": [],
   "source": [
    "def plot_trajectory(poses_gt, poses_result):\n",
    "    plot_keys = [\"Ground Truth\", \"Ours\"]\n",
    "    fontsize_ = 15\n",
    "\n",
    "    poses_dict = {}\n",
    "    poses_dict[\"Ground Truth\"] = poses_gt\n",
    "    poses_dict[\"Ours\"] = poses_result\n",
    "\n",
    "    fig = plt.figure()\n",
    "    ax = plt.gca()\n",
    "    ax.set_aspect('equal')\n",
    "\n",
    "    for key in plot_keys:\n",
    "        pos_xz = []\n",
    "        frame_idx_list = range(len(poses_dict[\"Ours\"]))\n",
    "        for frame_idx in frame_idx_list:\n",
    "            # pose = np.linalg.inv(poses_dict[key][frame_idx_list[0]]) @ poses_dict[key][frame_idx]\n",
    "            pose = poses_dict[key][frame_idx]\n",
    "            pos_xz.append([pose[0, 3],  pose[2, 3]])\n",
    "        pos_xz = np.asarray(pos_xz)\n",
    "        plt.plot(pos_xz[:, 0],  pos_xz[:, 1], label=key)\n",
    "\n",
    "    plt.legend(loc=\"upper right\", prop={'size': fontsize_})\n",
    "    plt.xticks(fontsize=fontsize_)\n",
    "    plt.yticks(fontsize=fontsize_)\n",
    "    plt.xlabel('x (m)', fontsize=fontsize_)\n",
    "    plt.ylabel('z (m)', fontsize=fontsize_)\n",
    "    plt.grid()\n",
    "    plt.show()"
   ]
  },
  {
   "cell_type": "code",
   "execution_count": null,
   "metadata": {},
   "outputs": [],
   "source": [
    "plot_trajectory(gt_poses, pred_poses)"
   ]
  },
  {
   "cell_type": "code",
   "execution_count": null,
   "metadata": {},
   "outputs": [],
   "source": [
    "seq_errs = metrics.calc_sequence_errors(gt_poses, pred_poses)\n",
    "\n",
    "avg_segment_errs = metrics.compute_segment_error(seq_errs)\n",
    "pp.pprint(avg_segment_errs)\n",
    "\n",
    "ave_r_err, ave_t_err = metrics.compute_overall_err(seq_errs)\n",
    "trns_err_perc = ave_t_err*100\n",
    "rot_err_deg_100m = ave_r_err/np.pi*180*100\n",
    "print(\"Translational error (%): \", trns_err_perc)\n",
    "print(\"Rotational error (deg/100m): \", rot_err_deg_100m)"
   ]
  },
  {
   "cell_type": "code",
   "execution_count": null,
   "metadata": {},
   "outputs": [],
   "source": []
  }
 ],
 "metadata": {
  "kernelspec": {
   "display_name": "Python 3",
   "language": "python",
   "name": "python3"
  },
  "language_info": {
   "codemirror_mode": {
    "name": "ipython",
    "version": 3
   },
   "file_extension": ".py",
   "mimetype": "text/x-python",
   "name": "python",
   "nbconvert_exporter": "python",
   "pygments_lexer": "ipython3",
   "version": "3.8.0"
  }
 },
 "nbformat": 4,
 "nbformat_minor": 4
}
