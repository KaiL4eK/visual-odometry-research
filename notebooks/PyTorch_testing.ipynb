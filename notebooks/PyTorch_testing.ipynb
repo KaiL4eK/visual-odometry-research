{
 "cells": [
  {
   "cell_type": "code",
   "execution_count": null,
   "metadata": {},
   "outputs": [],
   "source": [
    "%load_ext autoreload\n",
    "%autoreload 2\n",
    "\n",
    "import torch\n",
    "from torch import nn\n",
    "from torch.nn import functional as F"
   ]
  },
  {
   "cell_type": "code",
   "execution_count": null,
   "metadata": {},
   "outputs": [],
   "source": [
    "quat = torch.tensor(\n",
    "    [\n",
    "        [0, 1, 0, 0], \n",
    "        [1, 1, 1, 1]\n",
    "    ],\n",
    "dtype=torch.float32)\n",
    "\n",
    "unit_quats = F.normalize(quat)\n",
    "print(unit_quats)"
   ]
  },
  {
   "cell_type": "code",
   "execution_count": null,
   "metadata": {},
   "outputs": [],
   "source": [
    "class PosePrediction(nn.Module):\n",
    "    def __init__(self, ):\n",
    "        super().__init__()\n",
    "        \n",
    "        self.backbone = torch.hub.load('pytorch/vision:v0.5.0', 'resnet18', pretrained=True)\n",
    "        self.backbone = nn.Sequential(*(list(self.backbone.children())[:-2]))\n",
    "        \n",
    "        self.predict = nn.Sequential(\n",
    "            *[\n",
    "                nn.Conv2d(1024, 1024, 3),\n",
    "                nn.BatchNorm2d(1024, eps=1e-05, momentum=0.1, affine=True, track_running_stats=True),\n",
    "                nn.ReLU(inplace=True),\n",
    "                \n",
    "                nn.Conv2d(1024, 1024, 3),\n",
    "                nn.BatchNorm2d(1024, eps=1e-05, momentum=0.1, affine=True, track_running_stats=True),\n",
    "                nn.ReLU(inplace=True),\n",
    "                \n",
    "                nn.AdaptiveAvgPool2d(output_size=(1, 1)),\n",
    "            ]\n",
    "        )\n",
    "\n",
    "        self.fc = nn.Sequential(\n",
    "            *[\n",
    "                nn.Linear(1024, 120),\n",
    "                nn.Linear(120, 84)\n",
    "            ]\n",
    "        )\n",
    "        \n",
    "        self.fc_quat = nn.Linear(84, 4)\n",
    "        self.fc_trns = nn.Linear(84, 3)\n",
    "        \n",
    "    def forward(self, img1, img2):\n",
    "        \n",
    "        feat_img1 = self.backbone(img1)\n",
    "        feat_img2 = self.backbone(img2)\n",
    "        \n",
    "        x = torch.cat((feat_img1, feat_img2), dim=1)\n",
    "        \n",
    "        x = self.predict(x)\n",
    "        \n",
    "#         x = x.view([-1, 1024])\n",
    "        x = torch.flatten(x, 1)\n",
    "        x = self.fc(x)\n",
    "        \n",
    "        pred_quat = self.fc_quat(x)        \n",
    "        pred_trns = self.fc_trns(x)\n",
    "        \n",
    "        return pred_quat, pred_trns\n",
    "\n",
    "#     def extra_repr(self):\n",
    "#         return f'(backbone): {self.backbone}'"
   ]
  },
  {
   "cell_type": "code",
   "execution_count": null,
   "metadata": {},
   "outputs": [],
   "source": [
    "model = PosePrediction()\n",
    "\n",
    "sample_input1 = torch.rand(\n",
    "    (2, 3, 224, 224)\n",
    ") \n",
    "\n",
    "sample_input2 = torch.rand(\n",
    "    (2, 3, 224, 224)\n",
    ") \n",
    "\n",
    "pred_quat, pred_trns = model(sample_input1, sample_input2)"
   ]
  },
  {
   "cell_type": "code",
   "execution_count": null,
   "metadata": {},
   "outputs": [],
   "source": [
    "model"
   ]
  },
  {
   "cell_type": "code",
   "execution_count": null,
   "metadata": {},
   "outputs": [],
   "source": []
  },
  {
   "cell_type": "code",
   "execution_count": null,
   "metadata": {},
   "outputs": [],
   "source": []
  }
 ],
 "metadata": {
  "kernelspec": {
   "display_name": "Python 3",
   "language": "python",
   "name": "python3"
  },
  "language_info": {
   "codemirror_mode": {
    "name": "ipython",
    "version": 3
   },
   "file_extension": ".py",
   "mimetype": "text/x-python",
   "name": "python",
   "nbconvert_exporter": "python",
   "pygments_lexer": "ipython3",
   "version": "3.8.0"
  }
 },
 "nbformat": 4,
 "nbformat_minor": 4
}
