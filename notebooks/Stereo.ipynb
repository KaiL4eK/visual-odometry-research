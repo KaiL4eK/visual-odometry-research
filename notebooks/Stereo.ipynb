{
 "cells": [
  {
   "cell_type": "code",
   "execution_count": null,
   "metadata": {},
   "outputs": [],
   "source": [
    "%load_ext autoreload\n",
    "%autoreload 2\n",
    "\n",
    "import numpy as np\n",
    "import os\n",
    "import cv2\n",
    "\n",
    "import sys\n",
    "sys.path.append('..')\n",
    "\n",
    "from shared.data import KITTIData, draw_matches\n",
    "\n",
    "%matplotlib widget\n",
    "\n",
    "import matplotlib.pyplot as plt\n",
    "from mpl_toolkits.mplot3d import Axes3D\n",
    "# https://github.com/matplotlib/ipympl"
   ]
  },
  {
   "cell_type": "code",
   "execution_count": null,
   "metadata": {},
   "outputs": [],
   "source": [
    "DATASET_DIR = os.path.join('../', 'data/KITTI/dataset')\n",
    "dataset = KITTIData(DATASET_DIR)"
   ]
  },
  {
   "cell_type": "markdown",
   "metadata": {},
   "source": [
    "# Test stereovision"
   ]
  },
  {
   "cell_type": "code",
   "execution_count": null,
   "metadata": {},
   "outputs": [],
   "source": [
    "l_img, r_img = dataset.get_color_images(20)\n",
    "fig, (ax1, ax2) = plt.subplots(2, 1, figsize=[15,9])\n",
    "ax1.imshow(l_img)\n",
    "ax2.imshow(r_img)"
   ]
  },
  {
   "cell_type": "code",
   "execution_count": null,
   "metadata": {},
   "outputs": [],
   "source": [
    "left_matcher = cv2.StereoBM_create(numDisparities=16*9, blockSize=15)\n",
    "\n",
    "# wls_filter = cv2.ximgproc.createDisparityWLSFilter(left_matcher)\n",
    "# right_matcher = cv2.ximgproc.createRightMatcher(left_matcher)\n",
    "\n",
    "left_matcher.setMinDisparity(0)\n",
    "left_matcher.setSpeckleRange(8)\n",
    "left_matcher.setSpeckleWindowSize(200)\n",
    "left_matcher.setDisp12MaxDiff(1)\n",
    "left_matcher.setUniquenessRatio(5)\n",
    "left_matcher.setPreFilterCap(1)\n",
    "left_matcher.setPreFilterSize(5)\n",
    "left_matcher.setTextureThreshold(5)\n",
    "\n",
    "l_img_gray = cv2.cvtColor(l_img, cv2.COLOR_RGB2GRAY)\n",
    "r_img_gray = cv2.cvtColor(r_img, cv2.COLOR_RGB2GRAY)\n",
    "\n",
    "l_disp = left_matcher.compute(l_img_gray, r_img_gray)\n",
    "# r_disp = right_matcher.compute(r_img_gray, l_img_gray)\n",
    "\n",
    "# wls_filter.setLambda(8000)\n",
    "# wls_filter.setSigmaColor(8000)\n",
    "# # wls_filter->filter(left_disp,left,filtered_disp,right_disp);\n",
    "# wls_filter.filter(l_disp, l_img_gray, )\n",
    "\n",
    "plt.figure(figsize=(15,9))\n",
    "plt.imshow(l_disp)"
   ]
  },
  {
   "cell_type": "markdown",
   "metadata": {},
   "source": [
    "https://answers.opencv.org/question/182049/pythonstereo-disparity-quality-problems/"
   ]
  },
  {
   "cell_type": "code",
   "execution_count": null,
   "metadata": {},
   "outputs": [],
   "source": [
    "# window_size = 3\n",
    "# min_disp = 1\n",
    "# num_disp = 16*2\n",
    "# stereo = cv2.StereoSGBM(\n",
    "#     minDisparity=min_disp,\n",
    "#     numDisparities=num_disp,\n",
    "#     SADWindowSize=window_size,\n",
    "#     uniquenessRatio=10,\n",
    "#     speckleWindowSize=100,\n",
    "#     speckleRange=32,\n",
    "#     disp12MaxDiff=1,\n",
    "#     P1=8*3*window_size**2,\n",
    "#     P2=32*3*window_size**2,\n",
    "#     fullDP=False\n",
    "# )\n",
    "\n",
    "\n",
    "left_matcher = cv2.StereoSGBM_create(\n",
    "    minDisparity=0,\n",
    "    numDisparities=16*9, \n",
    "    blockSize=15,\n",
    "    P1=0,\n",
    "    P2=0,\n",
    "    disp12MaxDiff=1,\n",
    "#     preFilterCap=1,\n",
    "    uniquenessRatio=5,\n",
    "    speckleWindowSize=200,\n",
    "    speckleRange=8\n",
    ")\n",
    "\n",
    "# wls_filter = cv2.ximgproc.createDisparityWLSFilter(left_matcher)\n",
    "# right_matcher = cv2.ximgproc.createRightMatcher(left_matcher)\n",
    "\n",
    "l_img_gray = cv2.cvtColor(l_img, cv2.COLOR_RGB2GRAY)\n",
    "r_img_gray = cv2.cvtColor(r_img, cv2.COLOR_RGB2GRAY)\n",
    "\n",
    "l_disp = left_matcher.compute(l_img_gray, r_img_gray)\n",
    "# r_disp = right_matcher.compute(r_img_gray, l_img_gray)\n",
    "\n",
    "# wls_filter.setLambda(8000)\n",
    "# wls_filter.setSigmaColor(8000)\n",
    "# # wls_filter->filter(left_disp,left,filtered_disp,right_disp);\n",
    "# wls_filter.filter(l_disp, l_img_gray, )\n",
    "\n",
    "# plt.figure(figsize=(15,9))\n",
    "# plt.imshow(l_disp)\n",
    "\n",
    "disp = l_disp.astype(np.float32) / 16.0\n",
    "plt.figure(figsize=(15,9))\n",
    "plt.imshow(disp)"
   ]
  },
  {
   "cell_type": "code",
   "execution_count": null,
   "metadata": {},
   "outputs": [],
   "source": [
    "# Output is always int16\n",
    "\n",
    "Q_left = dataset.get_color_left_Q_matrix()\n",
    "print(Q_left)\n",
    "points = cv2.reprojectImageTo3D(disp, Q_left)\n",
    "\n",
    "plt.figure(figsize=(15,9))\n",
    "plt.imshow(points[:,:,2])\n",
    "\n",
    "# points = points.reshape(-1, 3)\n",
    "idxs = (disp > 0) & (points[:,:,2] < 100)\n",
    "points = points[idxs]\n",
    "colors = l_img[idxs]\n",
    "\n",
    "print(colors.shape)\n",
    "print(points.shape)\n",
    "\n",
    "colors = ['#%02x%02x%02x' % (clr[0], clr[1], clr[2]) for clr in colors]"
   ]
  },
  {
   "cell_type": "code",
   "execution_count": null,
   "metadata": {},
   "outputs": [],
   "source": [
    "fig = plt.figure(figsize=[20,9])\n",
    "ax = fig.add_subplot(111, projection='3d')\n",
    "ax.scatter(points[:,0], points[:,1], points[:,2], c=colors, marker='o')\n",
    "ax.set_xlabel('X axis')\n",
    "ax.set_ylabel('Y axis')\n",
    "ax.set_zlabel('Z axis')"
   ]
  }
 ],
 "metadata": {
  "kernelspec": {
   "display_name": "Python 3",
   "language": "python",
   "name": "python3"
  },
  "language_info": {
   "codemirror_mode": {
    "name": "ipython",
    "version": 3
   },
   "file_extension": ".py",
   "mimetype": "text/x-python",
   "name": "python",
   "nbconvert_exporter": "python",
   "pygments_lexer": "ipython3",
   "version": "3.8.0"
  }
 },
 "nbformat": 4,
 "nbformat_minor": 4
}
