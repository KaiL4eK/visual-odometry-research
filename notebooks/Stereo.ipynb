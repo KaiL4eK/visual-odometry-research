{
 "cells": [
  {
   "cell_type": "code",
   "execution_count": null,
   "metadata": {},
   "outputs": [],
   "source": [
    "%load_ext autoreload\n",
    "%autoreload 2\n",
    "\n",
    "import numpy as np\n",
    "import os\n",
    "import cv2\n",
    "\n",
    "import sys\n",
    "sys.path.append('..')\n",
    "\n",
    "from shared.data import KITTIData, draw_matches\n",
    "\n",
    "%matplotlib widget\n",
    "\n",
    "import matplotlib.pyplot as plt\n",
    "from mpl_toolkits.mplot3d import Axes3D\n",
    "# https://github.com/matplotlib/ipympl"
   ]
  },
  {
   "cell_type": "code",
   "execution_count": null,
   "metadata": {},
   "outputs": [],
   "source": [
    "DATASET_DIR = os.path.join('../', 'data/KITTI/dataset')\n",
    "dataset = KITTIData(DATASET_DIR, sequence_id=\"00\")"
   ]
  },
  {
   "cell_type": "markdown",
   "metadata": {},
   "source": [
    "# Test stereovision"
   ]
  },
  {
   "cell_type": "code",
   "execution_count": null,
   "metadata": {},
   "outputs": [],
   "source": [
    "l_img, r_img = dataset.get_images(30)\n",
    "fig, (ax1, ax2) = plt.subplots(2, 1, figsize=[14,10])\n",
    "ax1.imshow(l_img)\n",
    "ax2.imshow(r_img)"
   ]
  },
  {
   "cell_type": "code",
   "execution_count": null,
   "metadata": {},
   "outputs": [],
   "source": [
    "block_sz = 5\n",
    "left_matcher = cv2.StereoBM_create(numDisparities=16*4, blockSize=block_sz)\n",
    "\n",
    "# wls_filter = cv2.ximgproc.createDisparityWLSFilter(left_matcher)\n",
    "# right_matcher = cv2.ximgproc.createRightMatcher(left_matcher)\n",
    "\n",
    "left_matcher.setMinDisparity(0)\n",
    "left_matcher.setSpeckleRange(4)\n",
    "left_matcher.setSpeckleWindowSize(100)\n",
    "# left_matcher.setDisp12MaxDiff(1)\n",
    "left_matcher.setUniquenessRatio(10)\n",
    "left_matcher.setPreFilterCap(31)\n",
    "left_matcher.setPreFilterSize(9)\n",
    "left_matcher.setTextureThreshold(10)\n",
    "\n",
    "l_disp = left_matcher.compute(l_img, r_img)\n",
    "# r_disp = right_matcher.compute(r_img_gray, l_img_gray)\n",
    "disp = l_disp.astype(np.float32) / 16.0\n",
    "\n",
    "# wls_filter.setLambda(8000)\n",
    "# wls_filter.setSigmaColor(8000)\n",
    "# # wls_filter->filter(left_disp,left,filtered_disp,right_disp);\n",
    "# wls_filter.filter(l_disp, l_img_gray, )\n",
    "plt.figure(figsize=[14,5])\n",
    "plt.imshow(disp)"
   ]
  },
  {
   "cell_type": "code",
   "execution_count": null,
   "metadata": {},
   "outputs": [],
   "source": [
    "block_sz = 3\n",
    "left_matcher = cv2.StereoSGBM_create(\n",
    "    minDisparity=0,\n",
    "    numDisparities=16*10, \n",
    "    blockSize=block_sz,\n",
    "    P1=block_sz*block_sz*8*3,\n",
    "    P2=block_sz*block_sz*32*3,\n",
    "#     disp12MaxDiff=0,\n",
    "    preFilterCap=63,\n",
    "    uniquenessRatio=10,\n",
    "    speckleWindowSize=100,\n",
    "    speckleRange=1,\n",
    "#     mode=cv2.StereoSGBM_MODE_SGBM_3WAY\n",
    ")\n",
    "\n",
    "l_disp = left_matcher.compute(l_img, r_img)\n",
    "disp = l_disp.astype(np.float32) / 16.0\n",
    "plt.figure(figsize=[14,5])\n",
    "plt.imshow(disp)"
   ]
  },
  {
   "cell_type": "code",
   "execution_count": null,
   "metadata": {},
   "outputs": [],
   "source": [
    "Q_left = dataset.get_left_Q_matrix()\n",
    "print(Q_left)\n",
    "points = cv2.reprojectImageTo3D(disp, Q_left)\n",
    "\n",
    "plt.figure(figsize=(15,9))\n",
    "plt.imshow(points[:,:,2])\n",
    "\n",
    "# points = points.reshape(-1, 3)\n",
    "idxs = (disp > 0) & (points[:,:,2] < 100)\n",
    "points = points[idxs]\n",
    "colors = l_img[idxs]\n",
    "\n",
    "print(colors.shape)\n",
    "print(points.shape)\n",
    "\n",
    "# colors = ['#%02x%02x%02x' % (clr[0], clr[1], clr[2]) for clr in colors]"
   ]
  },
  {
   "cell_type": "code",
   "execution_count": null,
   "metadata": {},
   "outputs": [],
   "source": []
  }
 ],
 "metadata": {
  "kernelspec": {
   "display_name": "Python 3",
   "language": "python",
   "name": "python3"
  },
  "language_info": {
   "codemirror_mode": {
    "name": "ipython",
    "version": 3
   },
   "file_extension": ".py",
   "mimetype": "text/x-python",
   "name": "python",
   "nbconvert_exporter": "python",
   "pygments_lexer": "ipython3",
   "version": "3.8.0"
  }
 },
 "nbformat": 4,
 "nbformat_minor": 4
}
