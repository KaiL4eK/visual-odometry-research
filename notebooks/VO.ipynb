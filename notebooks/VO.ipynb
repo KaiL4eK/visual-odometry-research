{
 "cells": [
  {
   "cell_type": "markdown",
   "metadata": {},
   "source": [
    "- Main KITTI readme (old): https://github.com/yanii/kitti-pcl/blob/master/KITTI_README.TXT  \n",
    "- About Intrinsics: http://ksimek.github.io/2013/08/13/intrinsic/\n",
    "- Car scheme: http://www.cvlibs.net/publications/Geiger2013IJRR.pdf\n",
    "- https://avisingh599.github.io/vision/visual-odometry-full/\n",
    "- Image with reprojection: https://yadi.sk/i/JAIIsbP5dHAELg\n",
    "- https://github.com/cgarg92/Stereo-visual-odometry"
   ]
  },
  {
   "cell_type": "code",
   "execution_count": null,
   "metadata": {},
   "outputs": [],
   "source": [
    "%load_ext autoreload\n",
    "%autoreload 2\n",
    "\n",
    "import numpy as np\n",
    "import os\n",
    "import cv2\n",
    "\n",
    "import sys\n",
    "sys.path.append('..')\n",
    "\n",
    "from shared.data import KITTIData,  VisualOdometry, draw_matches, draw_keypoints\n",
    "from shared.tools import find_max_clique\n",
    "\n",
    "%matplotlib widget\n",
    "\n",
    "import matplotlib.pyplot as plt\n",
    "from mpl_toolkits.mplot3d import Axes3D\n",
    "# https://github.com/matplotlib/ipympl"
   ]
  },
  {
   "cell_type": "code",
   "execution_count": null,
   "metadata": {},
   "outputs": [],
   "source": [
    "DATASET_DIR = os.path.join('../', 'data/KITTI/dataset')\n",
    "dataset = KITTIData(DATASET_DIR)"
   ]
  },
  {
   "cell_type": "code",
   "execution_count": null,
   "metadata": {},
   "outputs": [],
   "source": [
    "frame_idx = 150\n",
    "c_l_img, c_r_img = dataset.get_color_images(frame_idx)\n",
    "n_l_img, n_r_img = dataset.get_color_images(frame_idx+1)\n",
    "Q_left = dataset.get_color_left_Q_matrix()\n",
    "gt_transform = dataset._get_transform_mtrx(frame_idx)\n",
    "\n",
    "print(gt_transform)\n",
    "fig, (ax1, ax2) = plt.subplots(2, 1, figsize=[15,9])\n",
    "ax1.imshow(c_l_img)\n",
    "ax2.imshow(n_l_img)"
   ]
  },
  {
   "cell_type": "code",
   "execution_count": null,
   "metadata": {},
   "outputs": [],
   "source": [
    "vo = VisualOdometry()\n",
    "c_depth_frame = vo.process_depth(c_l_img, c_r_img, Q_left)\n",
    "n_depth_frame = vo.process_depth(n_l_img, n_r_img, Q_left)\n",
    "\n",
    "fig, (ax1, ax2) = plt.subplots(2, 1, figsize=[15,9])\n",
    "ax1.imshow(c_depth_frame[:,:,2])\n",
    "ax2.imshow(n_depth_frame[:,:,2])"
   ]
  },
  {
   "cell_type": "code",
   "execution_count": null,
   "metadata": {},
   "outputs": [],
   "source": [
    "c_feats, n_feats = vo.get_features(c_l_img, n_l_img)\n",
    "\n",
    "c_img_canvas = c_l_img.copy()\n",
    "n_img_canvas = n_l_img.copy()\n",
    "\n",
    "c_pnts, c_ft_idxs = vo.reproject_2d_to_3d_points(c_feats, c_depth_frame)\n",
    "n_pnts, n_ft_idxs = vo.reproject_2d_to_3d_points(n_feats, n_depth_frame)\n",
    "\n",
    "ft_idxs = c_ft_idxs & n_ft_idxs\n",
    "\n",
    "c_pnts = c_pnts[ft_idxs]\n",
    "n_pnts = n_pnts[ft_idxs]\n",
    "c_feats = c_feats[ft_idxs]\n",
    "n_feats = n_feats[ft_idxs]\n",
    "\n",
    "draw_keypoints(c_img_canvas, n_img_canvas, c_feats, n_feats)\n",
    "\n",
    "# Rendering valid features\n",
    "fig, (ax1, ax2) = plt.subplots(2, 1, figsize=[15,9])\n",
    "ax1.imshow(c_img_canvas)\n",
    "ax2.imshow(n_img_canvas)"
   ]
  },
  {
   "cell_type": "code",
   "execution_count": null,
   "metadata": {},
   "outputs": [],
   "source": [
    "import networkx as nx\n",
    "from networkx.algorithms.approximation.clique import max_clique\n",
    "\n",
    "num_points = c_pnts.shape[0]\n",
    "graph = nx.Graph()\n",
    "graph.add_nodes_from(list(range(num_points)))\n",
    "\n",
    "print(num_points)\n",
    "# print(graph.number_of_nodes())\n",
    "\n",
    "if c_pnts.shape[0] < 6:\n",
    "    raise Exception('Too low count of points')\n",
    "\n",
    "clique_len = 0\n",
    "dist_thrs = 0.05\n",
    "while clique_len < 6:\n",
    "    for i in range(num_points):\n",
    "        diff_1 = c_pnts[i,:] - c_pnts\n",
    "        diff_2 = n_pnts[i,:] - n_pnts\n",
    "        dist_1 = np.linalg.norm(diff_1, axis=1)\n",
    "        dist_2 = np.linalg.norm(diff_2, axis=1)\n",
    "        diff = abs(dist_2 - dist_1)\n",
    "        wIdx = np.where(diff < dist_thrs)\n",
    "        for i_w in wIdx[0]:  \n",
    "            graph.add_edge(i, i_w)\n",
    "\n",
    "    cliques = nx.algorithms.find_cliques(graph)\n",
    "    max_clique = max_clique(graph)\n",
    "    clique_len = len(max_clique)\n",
    "    \n",
    "print(clique_len)\n",
    "\n",
    "c_pnts_new = c_pnts[list(max_clique)]\n",
    "n_pnts_new = n_pnts[list(max_clique)]"
   ]
  },
  {
   "cell_type": "code",
   "execution_count": null,
   "metadata": {},
   "outputs": [],
   "source": [
    "# P_left, _ = dataset.get_color_P_matrix()\n",
    "# print(P_left)\n",
    "\n",
    "С_left, _ = dataset.get_color_С_matrix()\n",
    "P_left = np.hstack((С_left, np.transpose([[0, 0, 0]])))\n",
    "\n",
    "c_pnts_2d = vo.reproject_3d_to_2d(c_pnts_new, P_left)\n",
    "n_pnts_2d = vo.reproject_3d_to_2d(n_pnts_new, P_left)\n",
    "\n",
    "c_img_canvas = c_l_img.copy()\n",
    "n_img_canvas = n_l_img.copy()\n",
    "\n",
    "# Check after clique and projection\n",
    "draw_keypoints(c_img_canvas, n_img_canvas, c_pnts_2d, n_pnts_2d)\n",
    "\n",
    "# # Rendering valid features\n",
    "fig, (ax1, ax2) = plt.subplots(2, 1, figsize=[15,9])\n",
    "ax1.imshow(c_img_canvas)\n",
    "ax2.imshow(n_img_canvas)"
   ]
  },
  {
   "cell_type": "code",
   "execution_count": null,
   "metadata": {},
   "outputs": [],
   "source": [
    "from scipy.spatial.transform import Rotation as R\n",
    "from scipy.optimize import least_squares\n",
    "\n",
    "def get_transform_matrix(x):\n",
    "    transform = np.eye(4)\n",
    "    transform[:3,:3] = R.from_rotvec(x[:3]).as_matrix()\n",
    "    transform[:3, 3] = x[3:]\n",
    "    return transform\n",
    "    \n",
    "def from_transform_matrix(x):\n",
    "    rotvec = R.from_matrix(x[:3,:3]).as_rotvec()\n",
    "    transl = x[:3,3]\n",
    "    return list([*rotvec, *transl])\n",
    "    \n",
    "def estimate_transform_2d(x, c_pnts_2d, n_pnts_2d, c_pnts_3d, n_pnts_3d, P_mtrx):\n",
    "    \"\"\"\n",
    "        x - [rotvec, transform]\n",
    "    \"\"\"\n",
    "    transform = get_transform_matrix(x)\n",
    "\n",
    "    Proj_frwrd = P_mtrx @ np.linalg.inv(transform)\n",
    "    Proj_bcwrd = P_mtrx @ transform\n",
    "    \n",
    "    n_pred_pnts_2d = vo.reproject_3d_to_2d(c_pnts_3d, Proj_frwrd)\n",
    "    c_pred_pnts_2d = vo.reproject_3d_to_2d(n_pnts_3d, Proj_bcwrd)\n",
    "    \n",
    "    c_err = c_pnts_2d - c_pred_pnts_2d\n",
    "    n_err = n_pnts_2d - n_pred_pnts_2d\n",
    "\n",
    "    residual = np.vstack((c_err*c_err,n_err*n_err))\n",
    "    return residual.flatten()\n",
    "\n",
    "def estimate_transform_3d(x, c_pnts_3d, n_pnts_3d):\n",
    "    \"\"\"\n",
    "        x - [rotvec, transform]\n",
    "    \"\"\"\n",
    "    transform = get_transform_matrix(x)\n",
    "    \n",
    "    c_pred_pnts_3d = vo.transform_3d(transform, n_pnts_3d)\n",
    "    n_pred_pnts_3d = vo.transform_3d(np.linalg.inv(transform), c_pnts_3d)\n",
    "    \n",
    "    c_err = c_pnts_3d - c_pred_pnts_3d\n",
    "    n_err = n_pnts_3d - n_pred_pnts_3d\n",
    "\n",
    "    residual = np.vstack((c_err*c_err,n_err*n_err))\n",
    "    return residual.flatten()"
   ]
  },
  {
   "cell_type": "code",
   "execution_count": null,
   "metadata": {},
   "outputs": [],
   "source": [
    "c_pnts_new"
   ]
  },
  {
   "cell_type": "code",
   "execution_count": null,
   "metadata": {},
   "outputs": [],
   "source": [
    "n_pnts_new"
   ]
  },
  {
   "cell_type": "code",
   "execution_count": null,
   "metadata": {},
   "outputs": [],
   "source": [
    "initial = from_transform_matrix(gt_transform)\n",
    "print(initial)\n",
    "\n",
    "estimate_transform_2d(\n",
    "    initial,\n",
    "    c_pnts_2d,\n",
    "    n_pnts_2d,\n",
    "    c_pnts_new,\n",
    "    n_pnts_new,\n",
    "    P_left\n",
    ")"
   ]
  },
  {
   "cell_type": "code",
   "execution_count": null,
   "metadata": {},
   "outputs": [],
   "source": [
    "initial = from_transform_matrix(gt_transform)\n",
    "print(initial)\n",
    "\n",
    "estimate_transform_3d(\n",
    "    initial,\n",
    "    c_pnts_new,\n",
    "    n_pnts_new\n",
    ")"
   ]
  },
  {
   "cell_type": "code",
   "execution_count": null,
   "metadata": {},
   "outputs": [],
   "source": [
    "initial = np.zeros(6)\n",
    "args = (\n",
    "    c_pnts_2d,\n",
    "    n_pnts_2d,\n",
    "    c_pnts_new,\n",
    "    n_pnts_new,\n",
    "    P_left\n",
    ")\n",
    "optRes = least_squares(estimate_transform, initial, method='lm', max_nfev=200, args=args, verbose=2)"
   ]
  },
  {
   "cell_type": "code",
   "execution_count": null,
   "metadata": {},
   "outputs": [],
   "source": [
    "optRes.x"
   ]
  },
  {
   "cell_type": "code",
   "execution_count": null,
   "metadata": {},
   "outputs": [],
   "source": [
    "optRes"
   ]
  },
  {
   "cell_type": "code",
   "execution_count": null,
   "metadata": {},
   "outputs": [],
   "source": []
  }
 ],
 "metadata": {
  "kernelspec": {
   "display_name": "Python 3",
   "language": "python",
   "name": "python3"
  },
  "language_info": {
   "codemirror_mode": {
    "name": "ipython",
    "version": 3
   },
   "file_extension": ".py",
   "mimetype": "text/x-python",
   "name": "python",
   "nbconvert_exporter": "python",
   "pygments_lexer": "ipython3",
   "version": "3.8.0"
  }
 },
 "nbformat": 4,
 "nbformat_minor": 4
}
