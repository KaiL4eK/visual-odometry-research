{
 "cells": [
  {
   "cell_type": "markdown",
   "metadata": {},
   "source": [
    "- https://github.com/yanii/kitti-pcl/blob/master/KITTI_README.TXT  \n",
    "- http://ksimek.github.io/2013/08/13/intrinsic/\n",
    "- http://www.cvlibs.net/publications/Geiger2013IJRR.pdf\n",
    "- https://avisingh599.github.io/vision/visual-odometry-full/\n"
   ]
  },
  {
   "cell_type": "code",
   "execution_count": null,
   "metadata": {},
   "outputs": [],
   "source": [
    "%load_ext autoreload\n",
    "%autoreload 2\n",
    "\n",
    "import numpy as np\n",
    "import os\n",
    "import cv2\n",
    "\n",
    "import sys\n",
    "sys.path.append('..')\n",
    "\n",
    "from shared.data import KITTIData,  VisualOdometry, draw_matches, draw_keypoints\n",
    "\n",
    "%matplotlib widget\n",
    "\n",
    "import matplotlib.pyplot as plt\n",
    "from mpl_toolkits.mplot3d import Axes3D\n",
    "# https://github.com/matplotlib/ipympl"
   ]
  },
  {
   "cell_type": "code",
   "execution_count": null,
   "metadata": {},
   "outputs": [],
   "source": [
    "DATASET_DIR = os.path.join('../', 'data/KITTI/dataset')\n",
    "dataset = KITTIData(DATASET_DIR)"
   ]
  },
  {
   "cell_type": "code",
   "execution_count": null,
   "metadata": {},
   "outputs": [],
   "source": [
    "l_img, r_img = dataset.get_color_images(20)\n",
    "n_img, _ = dataset.get_color_images(21)\n",
    "Q_left = dataset.get_color_left_Q_matrix()\n",
    "\n",
    "fig, (ax1, ax2) = plt.subplots(2, 1, figsize=[15,9])\n",
    "ax1.imshow(l_img)\n",
    "ax2.imshow(r_img)"
   ]
  },
  {
   "cell_type": "code",
   "execution_count": null,
   "metadata": {},
   "outputs": [],
   "source": [
    "vo = VisualOdometry()\n",
    "depth_frame = vo.process_depth(l_img, r_img, Q_left)\n",
    "\n",
    "plt.figure(figsize=(15,9))\n",
    "plt.imshow(depth_frame[:,:,2])"
   ]
  },
  {
   "cell_type": "code",
   "execution_count": null,
   "metadata": {},
   "outputs": [],
   "source": [
    "c_feats, n_feats = vo.get_features(l_img, n_img)\n",
    "\n",
    "c_img_canvas = l_img.copy()\n",
    "n_img_canvas = n_img.copy()\n",
    "\n",
    "draw_keypoints(c_img_canvas, n_img_canvas, c_feats, n_feats)\n",
    "\n",
    "fig, (ax1, ax2) = plt.subplots(2, 1, figsize=[15,9])\n",
    "ax1.imshow(c_img_canvas)\n",
    "ax2.imshow(n_img_canvas)"
   ]
  },
  {
   "cell_type": "code",
   "execution_count": null,
   "metadata": {},
   "outputs": [],
   "source": [
    "def get_feature_3d_points(c_feats, n_feats, depth_frame):\n",
    "    c_points = []\n",
    "    for ft in c_feats:\n",
    "        pnt = depth_frame[ft[1], ft[0]]\n",
    "        c_points.append(pnt)\n",
    "    n_points = []\n",
    "    for ft in n_feats:\n",
    "        pnt = depth_frame[ft[1], ft[0]]\n",
    "        n_points.append(pnt)\n",
    "\n",
    "    c_points = np.array(c_points)\n",
    "    n_points = np.array(n_points)\n",
    "    \n",
    "    idxs = (c_points[:,2] > 0) & (n_points[:,2] > 0)\n",
    "        \n",
    "    return c_points[idxs], n_points[idxs]"
   ]
  },
  {
   "cell_type": "code",
   "execution_count": null,
   "metadata": {},
   "outputs": [],
   "source": [
    "c_pnts, n_pnts = get_feature_3d_points(c_feats, n_feats, depth_frame)"
   ]
  },
  {
   "cell_type": "code",
   "execution_count": null,
   "metadata": {},
   "outputs": [],
   "source": []
  },
  {
   "cell_type": "code",
   "execution_count": null,
   "metadata": {},
   "outputs": [],
   "source": []
  }
 ],
 "metadata": {
  "kernelspec": {
   "display_name": "Python 3",
   "language": "python",
   "name": "python3"
  },
  "language_info": {
   "codemirror_mode": {
    "name": "ipython",
    "version": 3
   },
   "file_extension": ".py",
   "mimetype": "text/x-python",
   "name": "python",
   "nbconvert_exporter": "python",
   "pygments_lexer": "ipython3",
   "version": "3.8.0"
  }
 },
 "nbformat": 4,
 "nbformat_minor": 4
}
