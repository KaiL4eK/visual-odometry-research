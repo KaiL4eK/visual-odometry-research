{
 "cells": [
  {
   "cell_type": "code",
   "execution_count": null,
   "metadata": {},
   "outputs": [],
   "source": [
    "%load_ext autoreload\n",
    "%autoreload 2\n",
    "\n",
    "import numpy as np\n",
    "import os\n",
    "import cv2\n",
    "\n",
    "import sys\n",
    "sys.path.append('..')\n",
    "\n",
    "from shared.data import KITTIData,  VisualOdometry, draw_matches, draw_keypoints\n",
    "from shared.tools import find_max_clique\n",
    "\n",
    "%matplotlib widget\n",
    "\n",
    "import matplotlib.pyplot as plt\n",
    "from mpl_toolkits.mplot3d import Axes3D\n",
    "# https://github.com/matplotlib/ipympl"
   ]
  },
  {
   "cell_type": "code",
   "execution_count": null,
   "metadata": {},
   "outputs": [],
   "source": [
    "DATASET_DIR = os.path.join('../', 'data/KITTI/dataset')\n",
    "dataset = KITTIData(DATASET_DIR)\n",
    "gt_poses = dataset.get_poses()"
   ]
  },
  {
   "cell_type": "code",
   "execution_count": null,
   "metadata": {},
   "outputs": [],
   "source": [
    "poses = [\n",
    "    np.eye(4)\n",
    "]\n",
    "\n",
    "from concurrent.futures import ProcessPoolExecutor\n",
    "\n",
    "def process_transform(idx):\n",
    "    print(f'Start idx: {idx}')\n",
    "    c_l_img, c_r_img = dataset.get_color_images(frame_idx)\n",
    "    n_l_img, n_r_img = dataset.get_color_images(frame_idx+1)\n",
    "    Q_left = dataset.get_color_left_Q_matrix()\n",
    "    gt_transform = dataset._get_transform_mtrx(frame_idx)\n",
    "    \n",
    "    vo = VisualOdometry()\n",
    "    c_depth_frame = vo.process_depth(c_l_img, c_r_img, Q_left)\n",
    "    n_depth_frame = vo.process_depth(n_l_img, n_r_img, Q_left)\n",
    "\n",
    "    c_feats, n_feats = vo.get_features(c_l_img, n_l_img)\n",
    "\n",
    "    ### Get 3D points \n",
    "    c_pnts_3d, c_ft_idxs = vo.reproject_2d_to_3d_points(c_feats, c_depth_frame)\n",
    "    n_pnts_3d, n_ft_idxs = vo.reproject_2d_to_3d_points(n_feats, n_depth_frame)\n",
    "\n",
    "    ft_idxs = c_ft_idxs & n_ft_idxs\n",
    "\n",
    "    c_pnts_3d = c_pnts_3d[ft_idxs]\n",
    "    n_pnts_3d = n_pnts_3d[ft_idxs]\n",
    "\n",
    "    ### Filter \n",
    "    cl_idxs, _ = vo.max_clique_filter(c_pnts_3d, n_pnts_3d)\n",
    "    c_pnts_3d = c_pnts_3d[cl_idxs]\n",
    "    n_pnts_3d = n_pnts_3d[cl_idxs]\n",
    "\n",
    "    C_left, _ = dataset.get_color_С_matrix()\n",
    "    P_left = np.hstack((C_left, np.transpose([[0, 0, 0]])))\n",
    "\n",
    "    c_pnts_2d = vo.reproject_3d_to_2d(c_pnts_3d, P_left)\n",
    "    n_pnts_2d = vo.reproject_3d_to_2d(n_pnts_3d, P_left)\n",
    "\n",
    "    transform = vo.get_transform(c_pnts_3d, n_pnts_3d, C_left)\n",
    "    print(f'Transform for idx {idx} done')\n",
    "    \n",
    "    return transform\n",
    "    \n",
    "with ProcessPoolExecutor(8) as ex:\n",
    "    transforms = ex.map(process_transform, range(len(gt_poses)))\n",
    "\n",
    "for transform in transforms:\n",
    "    n_pose = vo.get_next_pose(transform, poses[-1])\n",
    "    poses.append(n_pose)\n"
   ]
  },
  {
   "cell_type": "code",
   "execution_count": null,
   "metadata": {},
   "outputs": [],
   "source": [
    "from shared import common\n",
    "\n",
    "common.plot_trajectories(gt_poses, poses)"
   ]
  },
  {
   "cell_type": "code",
   "execution_count": null,
   "metadata": {},
   "outputs": [],
   "source": []
  }
 ],
 "metadata": {
  "kernelspec": {
   "display_name": "Python 3",
   "language": "python",
   "name": "python3"
  },
  "language_info": {
   "codemirror_mode": {
    "name": "ipython",
    "version": 3
   },
   "file_extension": ".py",
   "mimetype": "text/x-python",
   "name": "python",
   "nbconvert_exporter": "python",
   "pygments_lexer": "ipython3",
   "version": "3.8.0"
  }
 },
 "nbformat": 4,
 "nbformat_minor": 4
}
